{
 "cells": [
  {
   "cell_type": "code",
   "execution_count": 1,
   "id": "20a277d7-23a7-48cc-8fcb-2096a48427ca",
   "metadata": {},
   "outputs": [],
   "source": [
    "import numpy as np\n",
    "\n",
    "# Importing standard Qiskit libraries\n",
    "from qiskit import QuantumCircuit, transpile, Aer, IBMQ,assemble,execute\n",
    "from qiskit.tools.jupyter import *\n",
    "from qiskit.visualization import *\n",
    "from ibm_quantum_widgets import *\n",
    "from qiskit.providers.aer import QasmSimulator\n",
    "from qiskit.algorithms.optimizers import COBYLA, SLSQP, ADAM\n",
    "\n",
    "backend = Aer.get_backend(\"qasm_simulator\")\n",
    "# Loading your IBM Quantum account(s)\n",
    "provider = IBMQ.load_account()"
   ]
  },
  {
   "cell_type": "code",
   "execution_count": null,
   "id": "2f25f922-762f-4b18-b49f-04f8766766f2",
   "metadata": {},
   "outputs": [],
   "source": [
    "#Inspired by Farhi et al. Trouble at creating the hamiltonian and applying classical optimization\n",
    "#Instead used a grid search, probably not idea\n",
    "#Should be able to generalize onto any arbitrary quantum state\n"
   ]
  },
  {
   "cell_type": "code",
   "execution_count": 17,
   "id": "c1e14e99-acb2-4903-897a-1182e89125de",
   "metadata": {},
   "outputs": [
    {
     "name": "stdout",
     "output_type": "stream",
     "text": [
      "[0.47608058 0.64523901 0.19666636 0.94086431 0.02342404 0.84279\n",
      " 0.39335855 0.97735236 0.73388474 0.45877392 0.70486691 0.45385537]\n"
     ]
    }
   ],
   "source": [
    "NUM_SHOTS = 8192\n",
    "states = ['0011','0101','1010','1100']\n",
    "def get_count_state(counts):\n",
    "    state_i = max(counts)\n",
    "    four_state = '0011'\n",
    "    count = 0\n",
    "    for i in counts:\n",
    "        if counts[i]>=count and i in states:\n",
    "            count = counts[i]\n",
    "            four_state = state\n",
    "    return state_i,four_state\n",
    "def objective_func(circuit):\n",
    "    counts = backend.run(circuit,shots=2048).result().get_counts()\n",
    "    state_i,four_state = get_count_max(counts)\n",
    "    #construct a hamiltonian to measure the energy --ran out of time\n",
    "    return hamiltonian\n",
    "def creat_circuit(circuit,thetas):\n",
    "    for i in range(4): #create rx, ry, rz \n",
    "        circuit.rx(thetas[0],i)\n",
    "        a+=1\n",
    "        circuit.ry(thetas[1],i)\n",
    "        a+=1\n",
    "        circuit.rz(thetas[2],i)\n",
    "        a+=1\n",
    "    return circuit\n",
    "def main(circuit):\n",
    "    theta = np.random.rand(3)\n",
    "    op_param = [0,0,0]\n",
    "    for theta_0 in np.linspace.(0,2*pi,100):\n",
    "        for theta_1 in np.linspace(0,2*pi,100):\n",
    "            for theta_3 in np.linspace(0,2*pi,100):\n",
    "                theta = [theta_0,theta_1,theta_2]\n",
    "                new_circuit = create_circuit(circuit,theta)\n",
    "                obj_max = 10000\n",
    "                if objective_func(new_circuit)<obj_max:\n",
    "                    op_param = [theta_0,theta_1,theta_2]\n",
    "    return op_param,objective_func(circuit)\n",
    "                \n",
    "    \n",
    "    "
   ]
  },
  {
   "cell_type": "code",
   "execution_count": 16,
   "id": "50a5f22e-e7ed-4d56-9fa1-50f2d106d473",
   "metadata": {},
   "outputs": [
    {
     "data": {
      "image/png": "[encoded data removed]",
      "text/plain": [
       "<Figure size 133.526x144.48 with 1 Axes>"
      ]
     },
     "execution_count": 16,
     "metadata": {},
     "output_type": "execute_result"
    }
   ],
   "source": []
  },
  {
   "cell_type": "code",
   "execution_count": 14,
   "id": "921e0cfe-6f4b-4249-80b3-2fa54ead2694",
   "metadata": {},
   "outputs": [
    {
     "name": "stdout",
     "output_type": "stream",
     "text": [
      "0\n",
      "496\n",
      "1\n",
      "528\n"
     ]
    }
   ],
   "source": []
  },
  {
   "cell_type": "code",
   "execution_count": null,
   "id": "cf877ca0-9932-4d0d-b558-64a96be6143e",
   "metadata": {},
   "outputs": [],
   "source": []
  }
 ],
 "metadata": {
  "kernelspec": {
   "display_name": "Qiskit v0.30.1 (ipykernel)",
   "language": "python",
   "name": "python3"
  },
  "language_info": {
   "codemirror_mode": {
    "name": "ipython",
    "version": 3
   },
   "file_extension": ".py",
   "mimetype": "text/x-python",
   "name": "python",
   "nbconvert_exporter": "python",
   "pygments_lexer": "ipython3",
   "version": "3.8.10"
  },
  "widgets": {
   "application/vnd.jupyter.widget-state+json": {
    "state": {
     "0178d1107b954e94a31506f03e261617": {
      "model_module": "@jupyter-widgets/base",
      "model_module_version": "1.2.0",
      "model_name": "LayoutModel",
      "state": {
       "margin": "0px 0px 10px 0px"
      }
     },
     "0cb7631d73404416b59c1b5521d0cce8": {
      "model_module": "@jupyter-widgets/base",
      "model_module_version": "1.2.0",
      "model_name": "LayoutModel",
      "state": {
       "width": "95px"
      }
     },
     "15928cd172a8456e9b6f35f9ae0f29cb": {
      "model_module": "@jupyter-widgets/controls",
      "model_module_version": "1.5.0",
      "model_name": "DescriptionStyleModel",
      "state": {
       "description_width": ""
      }
     },
     "1828bffa1a114a6c9589229a8d518b91": {
      "model_module": "@jupyter-widgets/controls",
      "model_module_version": "1.5.0",
      "model_name": "HTMLModel",
      "state": {
       "layout": "IPY_MODEL_9cfe08fc379840e5b92836bb2403625c",
       "style": "IPY_MODEL_5123f68a156044068a4ec6acb8accc6b",
       "value": "<h5>Queue</h5>"
      }
     },
     "22b076444ef1495fbe7a53ac54558d0a": {
      "model_module": "@jupyter-widgets/controls",
      "model_module_version": "1.5.0",
      "model_name": "ButtonModel",
      "state": {
       "button_style": "primary",
       "description": "Clear",
       "layout": "IPY_MODEL_da85c7e148c740829efea40196ff1107",
       "style": "IPY_MODEL_2bd016b862194f8da23cf9d9d2f16ab7"
      }
     },
     "2bd016b862194f8da23cf9d9d2f16ab7": {
      "model_module": "@jupyter-widgets/controls",
      "model_module_version": "1.5.0",
      "model_name": "ButtonStyleModel",
      "state": {}
     },
     "36af70ba53b1493d8aeaf4c84088ae76": {
      "model_module": "@jupyter-widgets/controls",
      "model_module_version": "1.5.0",
      "model_name": "DescriptionStyleModel",
      "state": {
       "description_width": ""
      }
     },
     "5123f68a156044068a4ec6acb8accc6b": {
      "model_module": "@jupyter-widgets/controls",
      "model_module_version": "1.5.0",
      "model_name": "DescriptionStyleModel",
      "state": {
       "description_width": ""
      }
     },
     "513b7206cbe14f4e89a7fa8a87f0405e": {
      "model_module": "@jupyter-widgets/controls",
      "model_module_version": "1.5.0",
      "model_name": "DescriptionStyleModel",
      "state": {
       "description_width": ""
      }
     },
     "5d85c39342bb4bfb8774bd6c59fe1825": {
      "model_module": "@jupyter-widgets/controls",
      "model_module_version": "1.5.0",
      "model_name": "HTMLModel",
      "state": {
       "layout": "IPY_MODEL_5fa1c210330a4e92b355842ad4d1fd66",
       "style": "IPY_MODEL_15928cd172a8456e9b6f35f9ae0f29cb",
       "value": "<h5>Job ID</h5>"
      }
     },
     "5fa1c210330a4e92b355842ad4d1fd66": {
      "model_module": "@jupyter-widgets/base",
      "model_module_version": "1.2.0",
      "model_name": "LayoutModel",
      "state": {
       "width": "190px"
      }
     },
     "636ce43fad6a493cbc56b7d396857b9f": {
      "model_module": "@jupyter-widgets/base",
      "model_module_version": "1.2.0",
      "model_name": "LayoutModel",
      "state": {
       "grid_template_areas": "\n                                       \". . . . right \"\n                                        ",
       "grid_template_columns": "20% 20% 20% 20% 20%",
       "width": "100%"
      }
     },
     "663073c6360d4092838d175abff034f1": {
      "model_module": "@jupyter-widgets/base",
      "model_module_version": "1.2.0",
      "model_name": "LayoutModel",
      "state": {
       "margin": "0px 0px 0px 37px",
       "width": "600px"
      }
     },
     "81aedb35857d43a39552cf33f39884dc": {
      "model_module": "@jupyter-widgets/controls",
      "model_module_version": "1.5.0",
      "model_name": "HTMLModel",
      "state": {
       "layout": "IPY_MODEL_0178d1107b954e94a31506f03e261617",
       "style": "IPY_MODEL_e3c85948e2b845e591fc1ab19d762e98",
       "value": "<p style='font-family: IBM Plex Sans, Arial, Helvetica, sans-serif; font-size: 20px; font-weight: medium;'>Circuit Properties</p>"
      }
     },
     "9cfe08fc379840e5b92836bb2403625c": {
      "model_module": "@jupyter-widgets/base",
      "model_module_version": "1.2.0",
      "model_name": "LayoutModel",
      "state": {
       "width": "70px"
      }
     },
     "a24b11af977344efa37f3240b28c10be": {
      "model_module": "@jupyter-widgets/controls",
      "model_module_version": "1.5.0",
      "model_name": "DescriptionStyleModel",
      "state": {
       "description_width": ""
      }
     },
     "ab8f8a078fa74377ab5b0d844df0ac72": {
      "model_module": "@jupyter-widgets/controls",
      "model_module_version": "1.5.0",
      "model_name": "HTMLModel",
      "state": {
       "layout": "IPY_MODEL_0cb7631d73404416b59c1b5521d0cce8",
       "style": "IPY_MODEL_513b7206cbe14f4e89a7fa8a87f0405e",
       "value": "<h5>Status</h5>"
      }
     },
     "b15dc9e2f10a4db4b5a99ab5b1ed4cf1": {
      "model_module": "@jupyter-widgets/controls",
      "model_module_version": "1.5.0",
      "model_name": "HBoxModel",
      "state": {
       "children": [
        "IPY_MODEL_5d85c39342bb4bfb8774bd6c59fe1825",
        "IPY_MODEL_fc5188c8cdbe4752a4ed13e6932c3709",
        "IPY_MODEL_ab8f8a078fa74377ab5b0d844df0ac72",
        "IPY_MODEL_1828bffa1a114a6c9589229a8d518b91",
        "IPY_MODEL_b7d3c6fc5d3f4cd0a03145372699eeb0"
       ],
       "layout": "IPY_MODEL_663073c6360d4092838d175abff034f1"
      }
     },
     "b7d3c6fc5d3f4cd0a03145372699eeb0": {
      "model_module": "@jupyter-widgets/controls",
      "model_module_version": "1.5.0",
      "model_name": "HTMLModel",
      "state": {
       "layout": "IPY_MODEL_f6a4e87bb0e84a579cb1866b827864d5",
       "style": "IPY_MODEL_a24b11af977344efa37f3240b28c10be",
       "value": "<h5>Message</h5>"
      }
     },
     "d70b267914764efc80cac0506a5b3c99": {
      "model_module": "@jupyter-widgets/base",
      "model_module_version": "1.2.0",
      "model_name": "LayoutModel",
      "state": {
       "width": "145px"
      }
     },
     "da85c7e148c740829efea40196ff1107": {
      "model_module": "@jupyter-widgets/base",
      "model_module_version": "1.2.0",
      "model_name": "LayoutModel",
      "state": {
       "grid_area": "right",
       "padding": "0px 0px 0px 0px",
       "width": "70px"
      }
     },
     "e3c85948e2b845e591fc1ab19d762e98": {
      "model_module": "@jupyter-widgets/controls",
      "model_module_version": "1.5.0",
      "model_name": "DescriptionStyleModel",
      "state": {
       "description_width": ""
      }
     },
     "e62c7451f32e42a8bccab3f53b1fecba": {
      "model_module": "@jupyter-widgets/controls",
      "model_module_version": "1.5.0",
      "model_name": "GridBoxModel",
      "state": {
       "children": [
        "IPY_MODEL_22b076444ef1495fbe7a53ac54558d0a"
       ],
       "layout": "IPY_MODEL_636ce43fad6a493cbc56b7d396857b9f"
      }
     },
     "f6a4e87bb0e84a579cb1866b827864d5": {
      "model_module": "@jupyter-widgets/base",
      "model_module_version": "1.2.0",
      "model_name": "LayoutModel",
      "state": {}
     },
     "fc5188c8cdbe4752a4ed13e6932c3709": {
      "model_module": "@jupyter-widgets/controls",
      "model_module_version": "1.5.0",
      "model_name": "HTMLModel",
      "state": {
       "layout": "IPY_MODEL_d70b267914764efc80cac0506a5b3c99",
       "style": "IPY_MODEL_36af70ba53b1493d8aeaf4c84088ae76",
       "value": "<h5>Backend</h5>"
      }
     }
    },
    "version_major": 2,
    "version_minor": 0
   }
  }
 },
 "nbformat": 4,
 "nbformat_minor": 5
}
